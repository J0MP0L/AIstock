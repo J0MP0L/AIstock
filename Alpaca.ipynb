{
 "cells": [
  {
   "cell_type": "code",
   "execution_count": 27,
   "metadata": {},
   "outputs": [
    {
     "name": "stdout",
     "output_type": "stream",
     "text": [
      "Account status: ACTIVE\n"
     ]
    }
   ],
   "source": [
    "from alpaca_trade_api.rest import REST, TimeFrame\n",
    "import time\n",
    "\n",
    "# ตั้งค่า API Key และ Secret สำหรับ Paper Account\n",
    "API_KEY = \"PK6JC4NIPDDSHGSSEMUX\"  # ใส่ API Key ของคุณ\n",
    "SECRET_KEY = \"YwbBplZK6GLawJuoFm0g4MJbh0rY3JlTnx8kpzQa\"  # ใส่ Secret Key ของคุณ\n",
    "BASE_URL = \"https://paper-api.alpaca.markets\" # URL สำหรับ Paper Account\n",
    "\n",
    "# สร้างการเชื่อมต่อกับ Alpaca\n",
    "api = REST(API_KEY, SECRET_KEY, BASE_URL)\n",
    "\n",
    "# ตรวจสอบสถานะบัญชี\n",
    "account = api.get_account()\n",
    "print(f\"Account status: {account.status}\")  # แสดงสถานะบัญชี\n"
   ]
  },
  {
   "cell_type": "code",
   "execution_count": 2,
   "metadata": {},
   "outputs": [],
   "source": [
    "# ฟังก์ชันสำหรับซื้อหุ้น\n",
    "def buy_stock(symbol, qty):\n",
    "    try:\n",
    "        api.submit_order(\n",
    "            symbol=symbol,\n",
    "            qty=qty,\n",
    "            side='buy',\n",
    "            type='market',\n",
    "            time_in_force='gtc'  # Good Till Cancelled\n",
    "        )\n",
    "        print(f\"Order placed to buy {qty} shares of {symbol}\")\n",
    "    except Exception as e:\n",
    "        print(f\"Error buying stock: {e}\")\n",
    "\n",
    "# ฟังก์ชันสำหรับขายหุ้น\n",
    "def sell_stock(symbol, qty):\n",
    "    try:\n",
    "        api.submit_order(\n",
    "            symbol=symbol,\n",
    "            qty=qty,\n",
    "            side='sell',\n",
    "            type='market',\n",
    "            time_in_force='gtc'\n",
    "        )\n",
    "        print(f\"Order placed to sell {qty} shares of {symbol}\")\n",
    "    except Exception as e:\n",
    "        print(f\"Error selling stock: {e}\")\n"
   ]
  },
  {
   "cell_type": "code",
   "execution_count": 24,
   "metadata": {},
   "outputs": [],
   "source": [
    "def trade_strategy(symbol, buy_price, sell_price):\n",
    "    while True:\n",
    "        # ดึงข้อมูลราคาหุ้นล่าสุด\n",
    "        barset = api.get_bars(symbol, TimeFrame.Minute, limit=1)\n",
    "        price=barset[0].c\n",
    "        if barset:\n",
    "            for bar in barset:\n",
    "                print(f\"Time: {bar.t}, Open: {bar.o}, High: {bar.h}, Low: {bar.l}, Close: {bar.c}, Volume: {bar.v}\")\n",
    "\n",
    "        # กลยุทธ์การซื้อขาย\n",
    "        if price <= buy_price:\n",
    "            print(f\"Buying {symbol} at {price}\")\n",
    "            api.submit_order(\n",
    "                symbol=symbol,\n",
    "                qty=1,\n",
    "                side='buy',\n",
    "                type='market',\n",
    "                time_in_force='gtc'\n",
    "            )\n",
    "        elif price >= sell_price:\n",
    "            print(f\"Selling {symbol} at {price}\")\n",
    "            api.submit_order(\n",
    "                symbol=symbol,\n",
    "                qty=1,\n",
    "                side='sell',\n",
    "                type='market',\n",
    "                time_in_force='gtc'\n",
    "            )\n",
    "        time.sleep(1) \n"
   ]
  },
  {
   "cell_type": "code",
   "execution_count": 31,
   "metadata": {},
   "outputs": [
    {
     "name": "stdout",
     "output_type": "stream",
     "text": [
      "Time: 2024-12-19 04:00:00-05:00, Open: 247.89, High: 247.89, Low: 247.75, Close: 247.79, Volume: 2706\n",
      "Time: 2024-12-19 04:00:00-05:00, Open: 247.89, High: 247.89, Low: 247.75, Close: 247.79, Volume: 2706\n",
      "Time: 2024-12-19 04:00:00-05:00, Open: 247.89, High: 247.89, Low: 247.75, Close: 247.79, Volume: 2706\n",
      "Time: 2024-12-19 04:00:00-05:00, Open: 247.89, High: 247.89, Low: 247.75, Close: 247.79, Volume: 2706\n",
      "Time: 2024-12-19 04:00:00-05:00, Open: 247.89, High: 247.89, Low: 247.75, Close: 247.79, Volume: 2706\n",
      "Time: 2024-12-19 04:00:00-05:00, Open: 247.89, High: 247.89, Low: 247.75, Close: 247.79, Volume: 2706\n",
      "Time: 2024-12-19 04:00:00-05:00, Open: 247.89, High: 247.89, Low: 247.75, Close: 247.79, Volume: 2706\n",
      "Time: 2024-12-19 04:00:00-05:00, Open: 247.89, High: 247.89, Low: 247.75, Close: 247.79, Volume: 2706\n"
     ]
    },
    {
     "ename": "KeyboardInterrupt",
     "evalue": "",
     "output_type": "error",
     "traceback": [
      "\u001b[0;31m---------------------------------------------------------------------------\u001b[0m",
      "\u001b[0;31mKeyboardInterrupt\u001b[0m                         Traceback (most recent call last)",
      "Cell \u001b[0;32mIn[31], line 2\u001b[0m\n\u001b[1;32m      1\u001b[0m \u001b[38;5;66;03m# เริ่มต้นกลยุทธ์สำหรับหุ้น AAPL\u001b[39;00m\n\u001b[0;32m----> 2\u001b[0m trade_strategy(symbol\u001b[38;5;241m=\u001b[39m\u001b[38;5;124m\"\u001b[39m\u001b[38;5;124mAAPL\u001b[39m\u001b[38;5;124m\"\u001b[39m, buy_price\u001b[38;5;241m=\u001b[39m\u001b[38;5;241m247.75\u001b[39m, sell_price\u001b[38;5;241m=\u001b[39m\u001b[38;5;241m250\u001b[39m)\n",
      "Cell \u001b[0;32mIn[24], line 29\u001b[0m, in \u001b[0;36mtrade_strategy\u001b[0;34m(symbol, buy_price, sell_price)\u001b[0m\n\u001b[1;32m     21\u001b[0m     \u001b[38;5;28mprint\u001b[39m(\u001b[38;5;124mf\u001b[39m\u001b[38;5;124m\"\u001b[39m\u001b[38;5;124mSelling \u001b[39m\u001b[38;5;132;01m{\u001b[39;00msymbol\u001b[38;5;132;01m}\u001b[39;00m\u001b[38;5;124m at \u001b[39m\u001b[38;5;132;01m{\u001b[39;00mprice\u001b[38;5;132;01m}\u001b[39;00m\u001b[38;5;124m\"\u001b[39m)\n\u001b[1;32m     22\u001b[0m     api\u001b[38;5;241m.\u001b[39msubmit_order(\n\u001b[1;32m     23\u001b[0m         symbol\u001b[38;5;241m=\u001b[39msymbol,\n\u001b[1;32m     24\u001b[0m         qty\u001b[38;5;241m=\u001b[39m\u001b[38;5;241m1\u001b[39m,\n\u001b[0;32m   (...)\u001b[0m\n\u001b[1;32m     27\u001b[0m         time_in_force\u001b[38;5;241m=\u001b[39m\u001b[38;5;124m'\u001b[39m\u001b[38;5;124mgtc\u001b[39m\u001b[38;5;124m'\u001b[39m\n\u001b[1;32m     28\u001b[0m     )\n\u001b[0;32m---> 29\u001b[0m time\u001b[38;5;241m.\u001b[39msleep(\u001b[38;5;241m1\u001b[39m)\n",
      "\u001b[0;31mKeyboardInterrupt\u001b[0m: "
     ]
    }
   ],
   "source": [
    "# เริ่มต้นกลยุทธ์สำหรับหุ้น AAPL\n",
    "trade_strategy(symbol=\"AAPL\", buy_price=247.75, sell_price=250)\n"
   ]
  },
  {
   "cell_type": "code",
   "execution_count": 15,
   "metadata": {},
   "outputs": [
    {
     "name": "stdout",
     "output_type": "stream",
     "text": [
      "Raw data for AAPL: []\n"
     ]
    }
   ],
   "source": [
    "symbol=\"AAPL\"\n",
    "barset = api.get_bars(symbol, TimeFrame.Minute, limit=1)\n",
    "print(f\"Raw data for {symbol}: {barset}\")\n"
   ]
  },
  {
   "cell_type": "code",
   "execution_count": 30,
   "metadata": {},
   "outputs": [
    {
     "name": "stderr",
     "output_type": "stream",
     "text": [
      "error during websocket communication: auth failed\n",
      "Traceback (most recent call last):\n",
      "  File \"/opt/anaconda3/lib/python3.11/site-packages/alpaca_trade_api/stream.py\", line 251, in _run_forever\n",
      "    await self._start_ws()\n",
      "  File \"/opt/anaconda3/lib/python3.11/site-packages/alpaca_trade_api/stream.py\", line 105, in _start_ws\n",
      "    await self._auth()\n",
      "  File \"/opt/anaconda3/lib/python3.11/site-packages/alpaca_trade_api/stream.py\", line 99, in _auth\n",
      "    raise ValueError(msg[0].get('msg', 'auth failed'))\n",
      "ValueError: auth failed\n",
      "error during websocket communication: auth failed\n",
      "Traceback (most recent call last):\n",
      "  File \"/opt/anaconda3/lib/python3.11/site-packages/alpaca_trade_api/stream.py\", line 251, in _run_forever\n",
      "    await self._start_ws()\n",
      "  File \"/opt/anaconda3/lib/python3.11/site-packages/alpaca_trade_api/stream.py\", line 105, in _start_ws\n",
      "    await self._auth()\n",
      "  File \"/opt/anaconda3/lib/python3.11/site-packages/alpaca_trade_api/stream.py\", line 99, in _auth\n",
      "    raise ValueError(msg[0].get('msg', 'auth failed'))\n",
      "ValueError: auth failed\n",
      "error during websocket communication: auth failed\n",
      "Traceback (most recent call last):\n",
      "  File \"/opt/anaconda3/lib/python3.11/site-packages/alpaca_trade_api/stream.py\", line 251, in _run_forever\n",
      "    await self._start_ws()\n",
      "  File \"/opt/anaconda3/lib/python3.11/site-packages/alpaca_trade_api/stream.py\", line 105, in _start_ws\n",
      "    await self._auth()\n",
      "  File \"/opt/anaconda3/lib/python3.11/site-packages/alpaca_trade_api/stream.py\", line 99, in _auth\n",
      "    raise ValueError(msg[0].get('msg', 'auth failed'))\n",
      "ValueError: auth failed\n",
      "error during websocket communication: auth failed\n",
      "Traceback (most recent call last):\n",
      "  File \"/opt/anaconda3/lib/python3.11/site-packages/alpaca_trade_api/stream.py\", line 251, in _run_forever\n",
      "    await self._start_ws()\n",
      "  File \"/opt/anaconda3/lib/python3.11/site-packages/alpaca_trade_api/stream.py\", line 105, in _start_ws\n",
      "    await self._auth()\n",
      "  File \"/opt/anaconda3/lib/python3.11/site-packages/alpaca_trade_api/stream.py\", line 99, in _auth\n",
      "    raise ValueError(msg[0].get('msg', 'auth failed'))\n",
      "ValueError: auth failed\n",
      "error during websocket communication: auth failed\n",
      "Traceback (most recent call last):\n",
      "  File \"/opt/anaconda3/lib/python3.11/site-packages/alpaca_trade_api/stream.py\", line 251, in _run_forever\n",
      "    await self._start_ws()\n",
      "  File \"/opt/anaconda3/lib/python3.11/site-packages/alpaca_trade_api/stream.py\", line 105, in _start_ws\n",
      "    await self._auth()\n",
      "  File \"/opt/anaconda3/lib/python3.11/site-packages/alpaca_trade_api/stream.py\", line 99, in _auth\n",
      "    raise ValueError(msg[0].get('msg', 'auth failed'))\n",
      "ValueError: auth failed\n",
      "error during websocket communication: auth failed\n",
      "Traceback (most recent call last):\n",
      "  File \"/opt/anaconda3/lib/python3.11/site-packages/alpaca_trade_api/stream.py\", line 251, in _run_forever\n",
      "    await self._start_ws()\n",
      "  File \"/opt/anaconda3/lib/python3.11/site-packages/alpaca_trade_api/stream.py\", line 105, in _start_ws\n",
      "    await self._auth()\n",
      "  File \"/opt/anaconda3/lib/python3.11/site-packages/alpaca_trade_api/stream.py\", line 99, in _auth\n",
      "    raise ValueError(msg[0].get('msg', 'auth failed'))\n",
      "ValueError: auth failed\n"
     ]
    },
    {
     "name": "stdout",
     "output_type": "stream",
     "text": [
      "keyboard interrupt, bye\n"
     ]
    },
    {
     "name": "stderr",
     "output_type": "stream",
     "text": [
      "/opt/anaconda3/lib/python3.11/ast.py:50: RuntimeWarning: coroutine 'main' was never awaited\n",
      "  return compile(source, filename, mode, flags,\n",
      "RuntimeWarning: Enable tracemalloc to get the object allocation traceback\n"
     ]
    },
    {
     "ename": "TypeError",
     "evalue": "object NoneType can't be used in 'await' expression",
     "output_type": "error",
     "traceback": [
      "\u001b[0;31m---------------------------------------------------------------------------\u001b[0m",
      "\u001b[0;31mTypeError\u001b[0m                                 Traceback (most recent call last)",
      "Cell \u001b[0;32mIn[30], line 31\u001b[0m\n\u001b[1;32m     28\u001b[0m     asyncio\u001b[38;5;241m.\u001b[39mset_event_loop(loop)\n\u001b[1;32m     30\u001b[0m \u001b[38;5;66;03m# รันฟังก์ชัน main\u001b[39;00m\n\u001b[0;32m---> 31\u001b[0m loop\u001b[38;5;241m.\u001b[39mrun_until_complete(main())\n",
      "File \u001b[0;32m/opt/anaconda3/lib/python3.11/site-packages/nest_asyncio.py:98\u001b[0m, in \u001b[0;36m_patch_loop.<locals>.run_until_complete\u001b[0;34m(self, future)\u001b[0m\n\u001b[1;32m     95\u001b[0m \u001b[38;5;28;01mif\u001b[39;00m \u001b[38;5;129;01mnot\u001b[39;00m f\u001b[38;5;241m.\u001b[39mdone():\n\u001b[1;32m     96\u001b[0m     \u001b[38;5;28;01mraise\u001b[39;00m \u001b[38;5;167;01mRuntimeError\u001b[39;00m(\n\u001b[1;32m     97\u001b[0m         \u001b[38;5;124m'\u001b[39m\u001b[38;5;124mEvent loop stopped before Future completed.\u001b[39m\u001b[38;5;124m'\u001b[39m)\n\u001b[0;32m---> 98\u001b[0m \u001b[38;5;28;01mreturn\u001b[39;00m f\u001b[38;5;241m.\u001b[39mresult()\n",
      "File \u001b[0;32m/opt/anaconda3/lib/python3.11/asyncio/futures.py:203\u001b[0m, in \u001b[0;36mFuture.result\u001b[0;34m(self)\u001b[0m\n\u001b[1;32m    201\u001b[0m \u001b[38;5;28mself\u001b[39m\u001b[38;5;241m.\u001b[39m__log_traceback \u001b[38;5;241m=\u001b[39m \u001b[38;5;28;01mFalse\u001b[39;00m\n\u001b[1;32m    202\u001b[0m \u001b[38;5;28;01mif\u001b[39;00m \u001b[38;5;28mself\u001b[39m\u001b[38;5;241m.\u001b[39m_exception \u001b[38;5;129;01mis\u001b[39;00m \u001b[38;5;129;01mnot\u001b[39;00m \u001b[38;5;28;01mNone\u001b[39;00m:\n\u001b[0;32m--> 203\u001b[0m     \u001b[38;5;28;01mraise\u001b[39;00m \u001b[38;5;28mself\u001b[39m\u001b[38;5;241m.\u001b[39m_exception\u001b[38;5;241m.\u001b[39mwith_traceback(\u001b[38;5;28mself\u001b[39m\u001b[38;5;241m.\u001b[39m_exception_tb)\n\u001b[1;32m    204\u001b[0m \u001b[38;5;28;01mreturn\u001b[39;00m \u001b[38;5;28mself\u001b[39m\u001b[38;5;241m.\u001b[39m_result\n",
      "File \u001b[0;32m/opt/anaconda3/lib/python3.11/asyncio/tasks.py:277\u001b[0m, in \u001b[0;36mTask.__step\u001b[0;34m(***failed resolving arguments***)\u001b[0m\n\u001b[1;32m    273\u001b[0m \u001b[38;5;28;01mtry\u001b[39;00m:\n\u001b[1;32m    274\u001b[0m     \u001b[38;5;28;01mif\u001b[39;00m exc \u001b[38;5;129;01mis\u001b[39;00m \u001b[38;5;28;01mNone\u001b[39;00m:\n\u001b[1;32m    275\u001b[0m         \u001b[38;5;66;03m# We use the `send` method directly, because coroutines\u001b[39;00m\n\u001b[1;32m    276\u001b[0m         \u001b[38;5;66;03m# don't have `__iter__` and `__next__` methods.\u001b[39;00m\n\u001b[0;32m--> 277\u001b[0m         result \u001b[38;5;241m=\u001b[39m coro\u001b[38;5;241m.\u001b[39msend(\u001b[38;5;28;01mNone\u001b[39;00m)\n\u001b[1;32m    278\u001b[0m     \u001b[38;5;28;01melse\u001b[39;00m:\n\u001b[1;32m    279\u001b[0m         result \u001b[38;5;241m=\u001b[39m coro\u001b[38;5;241m.\u001b[39mthrow(exc)\n",
      "Cell \u001b[0;32mIn[30], line 20\u001b[0m, in \u001b[0;36mmain\u001b[0;34m()\u001b[0m\n\u001b[1;32m     18\u001b[0m stream \u001b[38;5;241m=\u001b[39m Stream(api_key, api_secret, base_url\u001b[38;5;241m=\u001b[39mdata_url, raw_data\u001b[38;5;241m=\u001b[39m\u001b[38;5;28;01mTrue\u001b[39;00m)\n\u001b[1;32m     19\u001b[0m stream\u001b[38;5;241m.\u001b[39msubscribe_quotes(quote_handler, symbol)  \u001b[38;5;66;03m# สมัครรับข้อมูลเรียลไทม์\u001b[39;00m\n\u001b[0;32m---> 20\u001b[0m \u001b[38;5;28;01mawait\u001b[39;00m stream\u001b[38;5;241m.\u001b[39mrun()\n",
      "\u001b[0;31mTypeError\u001b[0m: object NoneType can't be used in 'await' expression"
     ]
    }
   ],
   "source": [
    "import asyncio\n",
    "from alpaca_trade_api.stream import Stream\n",
    "import nest_asyncio\n",
    "nest_asyncio.apply()\n",
    "\n",
    "\n",
    "\n",
    "base_url = \"https://paper-api.alpaca.markets\"\n",
    "data_url = \"wss://stream.data.alpaca.markets/v2/sip\"  # ใช้ SIP สำหรับข้อมูลเรียลไทม์\n",
    "\n",
    "symbol = \"AAPL\"  # หุ้นที่ต้องการติดตาม\n",
    "\n",
    "async def quote_handler(data):\n",
    "    \"\"\"แสดงข้อมูลราคาล่าสุด\"\"\"\n",
    "    print(f\"Time: {data.timestamp}, Symbol: {data.symbol}, Bid: {data.bid_price}, Ask: {data.ask_price}\")\n",
    "\n",
    "async def main():\n",
    "    stream = Stream(api_key, api_secret, base_url=data_url, raw_data=True)\n",
    "    stream.subscribe_quotes(quote_handler, symbol)  # สมัครรับข้อมูลเรียลไทม์\n",
    "    await stream.run()\n",
    "\n",
    "# ตรวจสอบว่ามี event loop อยู่แล้วหรือไม่\n",
    "if __name__ == \"__main__\":\n",
    "    try:\n",
    "        loop = asyncio.get_running_loop()\n",
    "    except RuntimeError:  # ไม่มี event loop ที่กำลังทำงาน\n",
    "        loop = asyncio.new_event_loop()\n",
    "        asyncio.set_event_loop(loop)\n",
    "\n",
    "    # รันฟังก์ชัน main\n",
    "    loop.run_until_complete(main())\n"
   ]
  },
  {
   "cell_type": "code",
   "execution_count": 21,
   "metadata": {},
   "outputs": [
    {
     "name": "stderr",
     "output_type": "stream",
     "text": [
      "[*********************100%***********************]  1 of 1 completed"
     ]
    },
    {
     "name": "stdout",
     "output_type": "stream",
     "text": [
      "Price            Close        High         Low        Open     Volume\n",
      "Ticker            NVDA        NVDA        NVDA        NVDA       NVDA\n",
      "Date                                                                 \n",
      "2025-01-16  133.570007  138.750000  133.490005  138.639999  209235600\n",
      "2025-01-17  137.710007  138.500000  135.460007  136.690002  201188800\n",
      "2025-01-21  140.830002  141.830002  137.089996  139.160004  197749000\n",
      "2025-01-22  147.070007  147.789993  143.669998  144.660004  237651400\n",
      "2025-01-23  147.220001  147.229996  143.720001  145.050003  155915500\n",
      "2025-01-24  142.619995  148.970001  141.880005  148.369995  234657600\n",
      "2025-01-27  118.419998  128.399994  116.699997  124.800003  818830900\n",
      "2025-01-28  128.990005  129.000000  116.250000  121.809998  579666400\n",
      "2025-01-29  123.699997  126.889999  120.050003  126.500000  467120600\n",
      "2025-01-30  124.650002  125.000000  118.099998  123.099998  392925500\n",
      "2025-01-31  120.070000  127.849998  119.190002  123.779999  388161100\n"
     ]
    },
    {
     "name": "stderr",
     "output_type": "stream",
     "text": [
      "\n"
     ]
    }
   ],
   "source": [
    "import yfinance as yf\n",
    "\n",
    "# กำหนดสัญลักษณ์หุ้น (ตัวอย่าง: AAPL - Apple)\n",
    "symbol = \"NVDA\"\n",
    "\n",
    "# ดึงข้อมูลย้อนหลัง 10 วัน\n",
    "data = yf.download(symbol, period=\"11d\", interval=\"1d\")\n",
    "\n",
    "# แสดงผลข้อมูล\n",
    "print(data)\n",
    "\n"
   ]
  },
  {
   "cell_type": "code",
   "execution_count": 17,
   "metadata": {},
   "outputs": [
    {
     "data": {
      "text/html": [
       "<div>\n",
       "<style scoped>\n",
       "    .dataframe tbody tr th:only-of-type {\n",
       "        vertical-align: middle;\n",
       "    }\n",
       "\n",
       "    .dataframe tbody tr th {\n",
       "        vertical-align: top;\n",
       "    }\n",
       "\n",
       "    .dataframe thead tr th {\n",
       "        text-align: left;\n",
       "    }\n",
       "\n",
       "    .dataframe thead tr:last-of-type th {\n",
       "        text-align: right;\n",
       "    }\n",
       "</style>\n",
       "<table border=\"1\" class=\"dataframe\">\n",
       "  <thead>\n",
       "    <tr>\n",
       "      <th>Price</th>\n",
       "      <th>Close</th>\n",
       "      <th>High</th>\n",
       "      <th>Low</th>\n",
       "      <th>Open</th>\n",
       "      <th>Volume</th>\n",
       "    </tr>\n",
       "    <tr>\n",
       "      <th>Ticker</th>\n",
       "      <th>NVDA</th>\n",
       "      <th>NVDA</th>\n",
       "      <th>NVDA</th>\n",
       "      <th>NVDA</th>\n",
       "      <th>NVDA</th>\n",
       "    </tr>\n",
       "    <tr>\n",
       "      <th>Date</th>\n",
       "      <th></th>\n",
       "      <th></th>\n",
       "      <th></th>\n",
       "      <th></th>\n",
       "      <th></th>\n",
       "    </tr>\n",
       "  </thead>\n",
       "  <tbody>\n",
       "    <tr>\n",
       "      <th>2025-01-17</th>\n",
       "      <td>137.710007</td>\n",
       "      <td>138.500000</td>\n",
       "      <td>135.460007</td>\n",
       "      <td>136.690002</td>\n",
       "      <td>201188800</td>\n",
       "    </tr>\n",
       "    <tr>\n",
       "      <th>2025-01-21</th>\n",
       "      <td>140.830002</td>\n",
       "      <td>141.830002</td>\n",
       "      <td>137.089996</td>\n",
       "      <td>139.160004</td>\n",
       "      <td>197749000</td>\n",
       "    </tr>\n",
       "    <tr>\n",
       "      <th>2025-01-22</th>\n",
       "      <td>147.070007</td>\n",
       "      <td>147.789993</td>\n",
       "      <td>143.669998</td>\n",
       "      <td>144.660004</td>\n",
       "      <td>237651400</td>\n",
       "    </tr>\n",
       "    <tr>\n",
       "      <th>2025-01-23</th>\n",
       "      <td>147.220001</td>\n",
       "      <td>147.229996</td>\n",
       "      <td>143.720001</td>\n",
       "      <td>145.050003</td>\n",
       "      <td>155915500</td>\n",
       "    </tr>\n",
       "    <tr>\n",
       "      <th>2025-01-24</th>\n",
       "      <td>142.619995</td>\n",
       "      <td>148.970001</td>\n",
       "      <td>141.880005</td>\n",
       "      <td>148.369995</td>\n",
       "      <td>234657600</td>\n",
       "    </tr>\n",
       "    <tr>\n",
       "      <th>2025-01-27</th>\n",
       "      <td>118.419998</td>\n",
       "      <td>128.399994</td>\n",
       "      <td>116.699997</td>\n",
       "      <td>124.800003</td>\n",
       "      <td>818830900</td>\n",
       "    </tr>\n",
       "    <tr>\n",
       "      <th>2025-01-28</th>\n",
       "      <td>128.990005</td>\n",
       "      <td>129.000000</td>\n",
       "      <td>116.250000</td>\n",
       "      <td>121.809998</td>\n",
       "      <td>579666400</td>\n",
       "    </tr>\n",
       "    <tr>\n",
       "      <th>2025-01-29</th>\n",
       "      <td>123.699997</td>\n",
       "      <td>126.889999</td>\n",
       "      <td>120.050003</td>\n",
       "      <td>126.500000</td>\n",
       "      <td>467120600</td>\n",
       "    </tr>\n",
       "    <tr>\n",
       "      <th>2025-01-30</th>\n",
       "      <td>124.650002</td>\n",
       "      <td>125.000000</td>\n",
       "      <td>118.099998</td>\n",
       "      <td>123.099998</td>\n",
       "      <td>392925500</td>\n",
       "    </tr>\n",
       "    <tr>\n",
       "      <th>2025-01-31</th>\n",
       "      <td>120.070000</td>\n",
       "      <td>127.849998</td>\n",
       "      <td>119.190002</td>\n",
       "      <td>123.779999</td>\n",
       "      <td>388161100</td>\n",
       "    </tr>\n",
       "  </tbody>\n",
       "</table>\n",
       "</div>"
      ],
      "text/plain": [
       "Price            Close        High         Low        Open     Volume\n",
       "Ticker            NVDA        NVDA        NVDA        NVDA       NVDA\n",
       "Date                                                                 \n",
       "2025-01-17  137.710007  138.500000  135.460007  136.690002  201188800\n",
       "2025-01-21  140.830002  141.830002  137.089996  139.160004  197749000\n",
       "2025-01-22  147.070007  147.789993  143.669998  144.660004  237651400\n",
       "2025-01-23  147.220001  147.229996  143.720001  145.050003  155915500\n",
       "2025-01-24  142.619995  148.970001  141.880005  148.369995  234657600\n",
       "2025-01-27  118.419998  128.399994  116.699997  124.800003  818830900\n",
       "2025-01-28  128.990005  129.000000  116.250000  121.809998  579666400\n",
       "2025-01-29  123.699997  126.889999  120.050003  126.500000  467120600\n",
       "2025-01-30  124.650002  125.000000  118.099998  123.099998  392925500\n",
       "2025-01-31  120.070000  127.849998  119.190002  123.779999  388161100"
      ]
     },
     "execution_count": 17,
     "metadata": {},
     "output_type": "execute_result"
    }
   ],
   "source": [
    "import pandas as pd\n",
    "pd.DataFrame(data)"
   ]
  },
  {
   "cell_type": "code",
   "execution_count": 22,
   "metadata": {},
   "outputs": [
    {
     "data": {
      "text/plain": [
       "Date\n",
       "2025-01-16    133.570007\n",
       "2025-01-17    137.710007\n",
       "2025-01-21    140.830002\n",
       "2025-01-22    147.070007\n",
       "2025-01-23    147.220001\n",
       "2025-01-24    142.619995\n",
       "2025-01-27    118.419998\n",
       "2025-01-28    128.990005\n",
       "2025-01-29    123.699997\n",
       "2025-01-30    124.650002\n",
       "2025-01-31    120.070000\n",
       "Name: NVDA, dtype: float64"
      ]
     },
     "execution_count": 22,
     "metadata": {},
     "output_type": "execute_result"
    }
   ],
   "source": [
    "data[\"Close\"][\"NVDA\"]"
   ]
  },
  {
   "cell_type": "code",
   "execution_count": 15,
   "metadata": {},
   "outputs": [
    {
     "data": {
      "text/plain": [
       "array([137.71000671, 140.83000183, 147.07000732, 147.22000122,\n",
       "       142.61999512, 118.41999817, 128.99000549, 123.69999695,\n",
       "       124.65000153, 120.06999969])"
      ]
     },
     "execution_count": 15,
     "metadata": {},
     "output_type": "execute_result"
    }
   ],
   "source": [
    "import numpy as np\n",
    "np.array(data[\"Close\"][\"NVDA\"])"
   ]
  },
  {
   "cell_type": "code",
   "execution_count": 18,
   "metadata": {},
   "outputs": [],
   "source": [
    "k=pd.DataFrame()"
   ]
  },
  {
   "cell_type": "code",
   "execution_count": 19,
   "metadata": {},
   "outputs": [],
   "source": [
    "k[\"Close\"]=np.array(data[\"Close\"][\"NVDA\"])"
   ]
  },
  {
   "cell_type": "code",
   "execution_count": 20,
   "metadata": {},
   "outputs": [
    {
     "data": {
      "text/html": [
       "<div>\n",
       "<style scoped>\n",
       "    .dataframe tbody tr th:only-of-type {\n",
       "        vertical-align: middle;\n",
       "    }\n",
       "\n",
       "    .dataframe tbody tr th {\n",
       "        vertical-align: top;\n",
       "    }\n",
       "\n",
       "    .dataframe thead th {\n",
       "        text-align: right;\n",
       "    }\n",
       "</style>\n",
       "<table border=\"1\" class=\"dataframe\">\n",
       "  <thead>\n",
       "    <tr style=\"text-align: right;\">\n",
       "      <th></th>\n",
       "      <th>Close</th>\n",
       "    </tr>\n",
       "  </thead>\n",
       "  <tbody>\n",
       "    <tr>\n",
       "      <th>0</th>\n",
       "      <td>137.710007</td>\n",
       "    </tr>\n",
       "    <tr>\n",
       "      <th>1</th>\n",
       "      <td>140.830002</td>\n",
       "    </tr>\n",
       "    <tr>\n",
       "      <th>2</th>\n",
       "      <td>147.070007</td>\n",
       "    </tr>\n",
       "    <tr>\n",
       "      <th>3</th>\n",
       "      <td>147.220001</td>\n",
       "    </tr>\n",
       "    <tr>\n",
       "      <th>4</th>\n",
       "      <td>142.619995</td>\n",
       "    </tr>\n",
       "    <tr>\n",
       "      <th>5</th>\n",
       "      <td>118.419998</td>\n",
       "    </tr>\n",
       "    <tr>\n",
       "      <th>6</th>\n",
       "      <td>128.990005</td>\n",
       "    </tr>\n",
       "    <tr>\n",
       "      <th>7</th>\n",
       "      <td>123.699997</td>\n",
       "    </tr>\n",
       "    <tr>\n",
       "      <th>8</th>\n",
       "      <td>124.650002</td>\n",
       "    </tr>\n",
       "    <tr>\n",
       "      <th>9</th>\n",
       "      <td>120.070000</td>\n",
       "    </tr>\n",
       "  </tbody>\n",
       "</table>\n",
       "</div>"
      ],
      "text/plain": [
       "        Close\n",
       "0  137.710007\n",
       "1  140.830002\n",
       "2  147.070007\n",
       "3  147.220001\n",
       "4  142.619995\n",
       "5  118.419998\n",
       "6  128.990005\n",
       "7  123.699997\n",
       "8  124.650002\n",
       "9  120.070000"
      ]
     },
     "execution_count": 20,
     "metadata": {},
     "output_type": "execute_result"
    }
   ],
   "source": [
    "k"
   ]
  },
  {
   "cell_type": "code",
   "execution_count": 23,
   "metadata": {},
   "outputs": [
    {
     "name": "stderr",
     "output_type": "stream",
     "text": [
      "2025-02-01 14:58:19.350 \n",
      "  \u001b[33m\u001b[1mWarning:\u001b[0m to view this Streamlit app on a browser, run it with the following\n",
      "  command:\n",
      "\n",
      "    streamlit run /opt/anaconda3/lib/python3.12/site-packages/ipykernel_launcher.py [ARGUMENTS]\n",
      "[*********************100%***********************]  1 of 1 completed\n"
     ]
    }
   ],
   "source": [
    "import streamlit as st\n",
    "import pandas as pd\n",
    "import numpy as np\n",
    "import tensorflow as tf\n",
    "import matplotlib.pyplot as plt\n",
    "\n",
    "st.title(\"NVDA Stock Price Prediction\")\n",
    "\n",
    "import yfinance as yf\n",
    "\n",
    "# กำหนดสัญลักษณ์หุ้น (ตัวอย่าง: AAPL - Apple)\n",
    "symbol = \"NVDA\"\n",
    "\n",
    "# ดึงข้อมูลย้อนหลัง 10 วัน\n",
    "data = yf.download(symbol, period=\"11d\", interval=\"1d\")\n",
    "\n",
    "df=pd.DataFrame()\n",
    "df[\"Open\"]=np.array(data[\"Open\"][\"NVDA\"])\n",
    "df[\"High\"]=np.array(data[\"High\"][\"NVDA\"])\n",
    "df[\"Low\"]=np.array(data[\"Low\"][\"NVDA\"])\n",
    "df[\"Close\"]=np.array(data[\"Close\"][\"NVDA\"])\n",
    "df[\"Volume\"]=np.array(data[\"Volume\"][\"NVDA\"])\n",
    "\n",
    "df[\"diff_n_o\"]=[None]+[np.log(df[\"Open\"][i+1])-np.log(df[\"Open\"][i]) for i in (range(len(df)-1))]\n",
    "df[\"diff_n_h\"]=[None]+[np.log(df[\"High\"][i+1])-np.log(df[\"High\"][i]) for i in (range(len(df)-1))]\n",
    "df[\"diff_n_c\"]=[None]+[np.log(df[\"Close\"][i+1])-np.log(df[\"Close\"][i]) for i in (range(len(df)-1))]\n",
    "df[\"diff_n_v\"]=[None]+[np.log(df[\"Volume\"][i+1])-np.log(df[\"Volume\"][i]) for i in (range(len(df)-1))]\n",
    "df[\"diff_n_l\"]=[None]+[np.log(df[\"Low\"][i+1])-np.log(df[\"Low\"][i]) for i in (range(len(df)-1))]\n",
    "df[\"diff_n_CO\"]=[None]+[np.log(df[\"Close\"][i+1])-np.log(df[\"Open\"][i+1]) for i in (range(len(df)-1))]\n",
    "data2=df.dropna()\n",
    "Xl1=data2[[\"diff_n_o\",\"diff_n_l\",\"diff_n_h\",\"diff_n_c\",\"diff_n_v\",\"diff_n_CO\"]]"
   ]
  },
  {
   "cell_type": "code",
   "execution_count": 24,
   "metadata": {},
   "outputs": [],
   "source": [
    "from keras.saving import register_keras_serializable\n",
    "\n",
    "@register_keras_serializable(package=\"Custom\", name=\"acc\")\n",
    "def acc(y_true, y_pred):\n",
    "    YT = tf.cast(y_true > 0, tf.int8)\n",
    "    YP = tf.cast(y_pred > 0, tf.int8)\n",
    "    accuracy = tf.reduce_mean(tf.cast(YT == YP, tf.float32))\n",
    "    return accuracy\n",
    "# Load pre-trained RNN model\n",
    "@st.cache_resource\n",
    "def load_model():\n",
    "    return tf.keras.models.load_model('AI.keras', custom_objects={\n",
    "    'acc': acc,\n",
    "})\n"
   ]
  },
  {
   "cell_type": "code",
   "execution_count": 25,
   "metadata": {},
   "outputs": [],
   "source": [
    "\n",
    "model = load_model()"
   ]
  },
  {
   "cell_type": "code",
   "execution_count": 30,
   "metadata": {},
   "outputs": [
    {
     "name": "stdout",
     "output_type": "stream",
     "text": [
      "\u001b[1m1/1\u001b[0m \u001b[32m━━━━━━━━━━━━━━━━━━━━\u001b[0m\u001b[37m\u001b[0m \u001b[1m0s\u001b[0m 375ms/step\n"
     ]
    }
   ],
   "source": [
    "predicted_price = model.predict(np.array(Xl1.values[np.newaxis]))"
   ]
  },
  {
   "cell_type": "code",
   "execution_count": 31,
   "metadata": {},
   "outputs": [
    {
     "data": {
      "text/plain": [
       "array([[-1.41650350e-02,  1.46498335e-02, -1.80342700e-03,\n",
       "         3.05243337e-02, -3.92171191e-02,  7.43446747e-03],\n",
       "       [ 1.79087706e-02,  1.19611744e-02,  2.37588446e-02,\n",
       "         2.24034287e-02, -1.72452209e-02,  1.19291256e-02],\n",
       "       [ 3.87618101e-02,  4.68813725e-02,  4.11631316e-02,\n",
       "         4.33552115e-02,  1.83806344e-01,  1.65225270e-02],\n",
       "       [ 2.69234487e-03,  3.47980461e-04, -3.79634094e-03,\n",
       "         1.01936121e-03, -4.21490700e-01,  1.48495433e-02],\n",
       "       [ 2.26305894e-02, -1.28853064e-02,  1.17489907e-02,\n",
       "        -3.17443586e-02,  4.08813237e-01, -3.95254047e-02],\n",
       "       [-1.72996641e-01, -1.95375151e-01, -1.48594608e-01,\n",
       "        -1.85946105e-01,  1.24975016e+00, -5.24748687e-02],\n",
       "       [-2.42500467e-02, -3.86346867e-03,  4.66206064e-03,\n",
       "         8.54973129e-02, -3.45424826e-01,  5.72724909e-02],\n",
       "       [ 3.77798745e-02,  3.21653036e-02, -1.64918398e-02,\n",
       "        -4.18756698e-02, -2.15865297e-01, -2.23830534e-02],\n",
       "       [-2.72452874e-02, -1.63766378e-02, -1.50068273e-02,\n",
       "         7.65056748e-03, -1.72967442e-01,  1.25128014e-02],\n",
       "       [ 5.50876565e-03,  9.18716869e-03,  2.25439525e-02,\n",
       "        -3.74349187e-02, -1.21995668e-02, -3.04308829e-02]])"
      ]
     },
     "execution_count": 31,
     "metadata": {},
     "output_type": "execute_result"
    }
   ],
   "source": [
    "np.array(Xl1.values)"
   ]
  },
  {
   "cell_type": "code",
   "execution_count": 34,
   "metadata": {},
   "outputs": [
    {
     "data": {
      "text/plain": [
       "-0.0038487613"
      ]
     },
     "execution_count": 34,
     "metadata": {},
     "output_type": "execute_result"
    }
   ],
   "source": [
    "predicted_price[0][0]"
   ]
  },
  {
   "cell_type": "code",
   "execution_count": 35,
   "metadata": {},
   "outputs": [
    {
     "data": {
      "text/html": [
       "<div>\n",
       "<style scoped>\n",
       "    .dataframe tbody tr th:only-of-type {\n",
       "        vertical-align: middle;\n",
       "    }\n",
       "\n",
       "    .dataframe tbody tr th {\n",
       "        vertical-align: top;\n",
       "    }\n",
       "\n",
       "    .dataframe thead th {\n",
       "        text-align: right;\n",
       "    }\n",
       "</style>\n",
       "<table border=\"1\" class=\"dataframe\">\n",
       "  <thead>\n",
       "    <tr style=\"text-align: right;\">\n",
       "      <th></th>\n",
       "      <th>diff_n_o</th>\n",
       "      <th>diff_n_l</th>\n",
       "      <th>diff_n_h</th>\n",
       "      <th>diff_n_c</th>\n",
       "      <th>diff_n_v</th>\n",
       "      <th>diff_n_CO</th>\n",
       "    </tr>\n",
       "  </thead>\n",
       "  <tbody>\n",
       "    <tr>\n",
       "      <th>1</th>\n",
       "      <td>-0.014165</td>\n",
       "      <td>0.014650</td>\n",
       "      <td>-0.001803</td>\n",
       "      <td>0.030524</td>\n",
       "      <td>-0.039217</td>\n",
       "      <td>0.007434</td>\n",
       "    </tr>\n",
       "    <tr>\n",
       "      <th>2</th>\n",
       "      <td>0.017909</td>\n",
       "      <td>0.011961</td>\n",
       "      <td>0.023759</td>\n",
       "      <td>0.022403</td>\n",
       "      <td>-0.017245</td>\n",
       "      <td>0.011929</td>\n",
       "    </tr>\n",
       "    <tr>\n",
       "      <th>3</th>\n",
       "      <td>0.038762</td>\n",
       "      <td>0.046881</td>\n",
       "      <td>0.041163</td>\n",
       "      <td>0.043355</td>\n",
       "      <td>0.183806</td>\n",
       "      <td>0.016523</td>\n",
       "    </tr>\n",
       "    <tr>\n",
       "      <th>4</th>\n",
       "      <td>0.002692</td>\n",
       "      <td>0.000348</td>\n",
       "      <td>-0.003796</td>\n",
       "      <td>0.001019</td>\n",
       "      <td>-0.421491</td>\n",
       "      <td>0.014850</td>\n",
       "    </tr>\n",
       "    <tr>\n",
       "      <th>5</th>\n",
       "      <td>0.022631</td>\n",
       "      <td>-0.012885</td>\n",
       "      <td>0.011749</td>\n",
       "      <td>-0.031744</td>\n",
       "      <td>0.408813</td>\n",
       "      <td>-0.039525</td>\n",
       "    </tr>\n",
       "    <tr>\n",
       "      <th>6</th>\n",
       "      <td>-0.172997</td>\n",
       "      <td>-0.195375</td>\n",
       "      <td>-0.148595</td>\n",
       "      <td>-0.185946</td>\n",
       "      <td>1.249750</td>\n",
       "      <td>-0.052475</td>\n",
       "    </tr>\n",
       "    <tr>\n",
       "      <th>7</th>\n",
       "      <td>-0.024250</td>\n",
       "      <td>-0.003863</td>\n",
       "      <td>0.004662</td>\n",
       "      <td>0.085497</td>\n",
       "      <td>-0.345425</td>\n",
       "      <td>0.057272</td>\n",
       "    </tr>\n",
       "    <tr>\n",
       "      <th>8</th>\n",
       "      <td>0.037780</td>\n",
       "      <td>0.032165</td>\n",
       "      <td>-0.016492</td>\n",
       "      <td>-0.041876</td>\n",
       "      <td>-0.215865</td>\n",
       "      <td>-0.022383</td>\n",
       "    </tr>\n",
       "    <tr>\n",
       "      <th>9</th>\n",
       "      <td>-0.027245</td>\n",
       "      <td>-0.016377</td>\n",
       "      <td>-0.015007</td>\n",
       "      <td>0.007651</td>\n",
       "      <td>-0.172967</td>\n",
       "      <td>0.012513</td>\n",
       "    </tr>\n",
       "    <tr>\n",
       "      <th>10</th>\n",
       "      <td>0.005509</td>\n",
       "      <td>0.009187</td>\n",
       "      <td>0.022544</td>\n",
       "      <td>-0.037435</td>\n",
       "      <td>-0.012200</td>\n",
       "      <td>-0.030431</td>\n",
       "    </tr>\n",
       "  </tbody>\n",
       "</table>\n",
       "</div>"
      ],
      "text/plain": [
       "    diff_n_o  diff_n_l  diff_n_h  diff_n_c  diff_n_v  diff_n_CO\n",
       "1  -0.014165  0.014650 -0.001803  0.030524 -0.039217   0.007434\n",
       "2   0.017909  0.011961  0.023759  0.022403 -0.017245   0.011929\n",
       "3   0.038762  0.046881  0.041163  0.043355  0.183806   0.016523\n",
       "4   0.002692  0.000348 -0.003796  0.001019 -0.421491   0.014850\n",
       "5   0.022631 -0.012885  0.011749 -0.031744  0.408813  -0.039525\n",
       "6  -0.172997 -0.195375 -0.148595 -0.185946  1.249750  -0.052475\n",
       "7  -0.024250 -0.003863  0.004662  0.085497 -0.345425   0.057272\n",
       "8   0.037780  0.032165 -0.016492 -0.041876 -0.215865  -0.022383\n",
       "9  -0.027245 -0.016377 -0.015007  0.007651 -0.172967   0.012513\n",
       "10  0.005509  0.009187  0.022544 -0.037435 -0.012200  -0.030431"
      ]
     },
     "execution_count": 35,
     "metadata": {},
     "output_type": "execute_result"
    }
   ],
   "source": [
    "Xl1"
   ]
  },
  {
   "cell_type": "code",
   "execution_count": null,
   "metadata": {},
   "outputs": [],
   "source": [
    "import yfinance as yf\n",
    "\n",
    "# ระบุสัญลักษณ์หุ้นและวันที่ที่ต้องการดึงข้อมูล\n",
    "ticker = \"AAPL\"  # ตัวอย่างหุ้น Apple\n",
    "date = \"2024-11-8\"\n",
    "\n",
    "# ดึงข้อมูลหุ้น\n",
    "stock = yf.download(ticker, start=date, end=date)\n",
    "\n",
    "# แสดงผลลัพธ์\n",
    "print(stock)\n"
   ]
  }
 ],
 "metadata": {
  "kernelspec": {
   "display_name": "base",
   "language": "python",
   "name": "python3"
  },
  "language_info": {
   "codemirror_mode": {
    "name": "ipython",
    "version": 3
   },
   "file_extension": ".py",
   "mimetype": "text/x-python",
   "name": "python",
   "nbconvert_exporter": "python",
   "pygments_lexer": "ipython3",
   "version": "3.12.7"
  }
 },
 "nbformat": 4,
 "nbformat_minor": 2
}
